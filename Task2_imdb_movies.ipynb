{
 "cells": [
  {
   "cell_type": "code",
   "execution_count": 1,
   "metadata": {
    "_cell_guid": "b1076dfc-b9ad-4769-8c92-a6c4dae69d19",
    "_uuid": "8f2839f25d086af736a60e9eeb907d3b93b6e0e5",
    "execution": {
     "iopub.execute_input": "2023-09-24T16:54:04.879476Z",
     "iopub.status.busy": "2023-09-24T16:54:04.879088Z",
     "iopub.status.idle": "2023-09-24T16:54:04.911523Z",
     "shell.execute_reply": "2023-09-24T16:54:04.910337Z",
     "shell.execute_reply.started": "2023-09-24T16:54:04.879445Z"
    }
   },
   "outputs": [],
   "source": [
    "import numpy as np\n",
    "import pandas as pd "
   ]
  },
  {
   "cell_type": "code",
   "execution_count": 2,
   "metadata": {
    "execution": {
     "iopub.execute_input": "2023-09-24T16:54:04.913993Z",
     "iopub.status.busy": "2023-09-24T16:54:04.913636Z",
     "iopub.status.idle": "2023-09-24T16:54:04.919979Z",
     "shell.execute_reply": "2023-09-24T16:54:04.918966Z",
     "shell.execute_reply.started": "2023-09-24T16:54:04.913962Z"
    }
   },
   "outputs": [],
   "source": [
    "import matplotlib.pyplot as plt\n",
    "import seaborn as sns\n",
    "from sklearn.model_selection import train_test_split\n",
    "from sklearn.linear_model import LinearRegression\n",
    "from sklearn.metrics import mean_squared_error\n",
    "from sklearn.metrics import mean_squared_error,mean_absolute_error,r2_score"
   ]
  },
  {
   "cell_type": "code",
   "execution_count": 3,
   "metadata": {
    "execution": {
     "iopub.execute_input": "2023-09-24T16:54:04.922120Z",
     "iopub.status.busy": "2023-09-24T16:54:04.921411Z",
     "iopub.status.idle": "2023-09-24T16:54:04.987413Z",
     "shell.execute_reply": "2023-09-24T16:54:04.986338Z",
     "shell.execute_reply.started": "2023-09-24T16:54:04.922088Z"
    }
   },
   "outputs": [],
   "source": [
    "df = pd.read_csv('IMDb Movies India.csv', encoding='latin1')"
   ]
  },
  {
   "cell_type": "code",
   "execution_count": 4,
   "metadata": {
    "execution": {
     "iopub.execute_input": "2023-09-24T16:54:05.367693Z",
     "iopub.status.busy": "2023-09-24T16:54:05.367319Z",
     "iopub.status.idle": "2023-09-24T16:54:05.385924Z",
     "shell.execute_reply": "2023-09-24T16:54:05.384740Z",
     "shell.execute_reply.started": "2023-09-24T16:54:05.367662Z"
    }
   },
   "outputs": [
    {
     "data": {
      "text/html": [
       "<div>\n",
       "<style scoped>\n",
       "    .dataframe tbody tr th:only-of-type {\n",
       "        vertical-align: middle;\n",
       "    }\n",
       "\n",
       "    .dataframe tbody tr th {\n",
       "        vertical-align: top;\n",
       "    }\n",
       "\n",
       "    .dataframe thead th {\n",
       "        text-align: right;\n",
       "    }\n",
       "</style>\n",
       "<table border=\"1\" class=\"dataframe\">\n",
       "  <thead>\n",
       "    <tr style=\"text-align: right;\">\n",
       "      <th></th>\n",
       "      <th>Name</th>\n",
       "      <th>Year</th>\n",
       "      <th>Duration</th>\n",
       "      <th>Genre</th>\n",
       "      <th>Rating</th>\n",
       "      <th>Votes</th>\n",
       "      <th>Director</th>\n",
       "      <th>Actor 1</th>\n",
       "      <th>Actor 2</th>\n",
       "      <th>Actor 3</th>\n",
       "    </tr>\n",
       "  </thead>\n",
       "  <tbody>\n",
       "    <tr>\n",
       "      <th>0</th>\n",
       "      <td></td>\n",
       "      <td>NaN</td>\n",
       "      <td>NaN</td>\n",
       "      <td>Drama</td>\n",
       "      <td>NaN</td>\n",
       "      <td>NaN</td>\n",
       "      <td>J.S. Randhawa</td>\n",
       "      <td>Manmauji</td>\n",
       "      <td>Birbal</td>\n",
       "      <td>Rajendra Bhatia</td>\n",
       "    </tr>\n",
       "    <tr>\n",
       "      <th>1</th>\n",
       "      <td>#Gadhvi (He thought he was Gandhi)</td>\n",
       "      <td>(2019)</td>\n",
       "      <td>109 min</td>\n",
       "      <td>Drama</td>\n",
       "      <td>7.0</td>\n",
       "      <td>8</td>\n",
       "      <td>Gaurav Bakshi</td>\n",
       "      <td>Rasika Dugal</td>\n",
       "      <td>Vivek Ghamande</td>\n",
       "      <td>Arvind Jangid</td>\n",
       "    </tr>\n",
       "    <tr>\n",
       "      <th>2</th>\n",
       "      <td>#Homecoming</td>\n",
       "      <td>(2021)</td>\n",
       "      <td>90 min</td>\n",
       "      <td>Drama, Musical</td>\n",
       "      <td>NaN</td>\n",
       "      <td>NaN</td>\n",
       "      <td>Soumyajit Majumdar</td>\n",
       "      <td>Sayani Gupta</td>\n",
       "      <td>Plabita Borthakur</td>\n",
       "      <td>Roy Angana</td>\n",
       "    </tr>\n",
       "    <tr>\n",
       "      <th>3</th>\n",
       "      <td>#Yaaram</td>\n",
       "      <td>(2019)</td>\n",
       "      <td>110 min</td>\n",
       "      <td>Comedy, Romance</td>\n",
       "      <td>4.4</td>\n",
       "      <td>35</td>\n",
       "      <td>Ovais Khan</td>\n",
       "      <td>Prateik</td>\n",
       "      <td>Ishita Raj</td>\n",
       "      <td>Siddhant Kapoor</td>\n",
       "    </tr>\n",
       "    <tr>\n",
       "      <th>4</th>\n",
       "      <td>...And Once Again</td>\n",
       "      <td>(2010)</td>\n",
       "      <td>105 min</td>\n",
       "      <td>Drama</td>\n",
       "      <td>NaN</td>\n",
       "      <td>NaN</td>\n",
       "      <td>Amol Palekar</td>\n",
       "      <td>Rajat Kapoor</td>\n",
       "      <td>Rituparna Sengupta</td>\n",
       "      <td>Antara Mali</td>\n",
       "    </tr>\n",
       "  </tbody>\n",
       "</table>\n",
       "</div>"
      ],
      "text/plain": [
       "                                 Name    Year Duration            Genre  \\\n",
       "0                                         NaN      NaN            Drama   \n",
       "1  #Gadhvi (He thought he was Gandhi)  (2019)  109 min            Drama   \n",
       "2                         #Homecoming  (2021)   90 min   Drama, Musical   \n",
       "3                             #Yaaram  (2019)  110 min  Comedy, Romance   \n",
       "4                   ...And Once Again  (2010)  105 min            Drama   \n",
       "\n",
       "   Rating Votes            Director       Actor 1             Actor 2  \\\n",
       "0     NaN   NaN       J.S. Randhawa      Manmauji              Birbal   \n",
       "1     7.0     8       Gaurav Bakshi  Rasika Dugal      Vivek Ghamande   \n",
       "2     NaN   NaN  Soumyajit Majumdar  Sayani Gupta   Plabita Borthakur   \n",
       "3     4.4    35          Ovais Khan       Prateik          Ishita Raj   \n",
       "4     NaN   NaN        Amol Palekar  Rajat Kapoor  Rituparna Sengupta   \n",
       "\n",
       "           Actor 3  \n",
       "0  Rajendra Bhatia  \n",
       "1    Arvind Jangid  \n",
       "2       Roy Angana  \n",
       "3  Siddhant Kapoor  \n",
       "4      Antara Mali  "
      ]
     },
     "execution_count": 4,
     "metadata": {},
     "output_type": "execute_result"
    }
   ],
   "source": [
    "df.head()"
   ]
  },
  {
   "cell_type": "code",
   "execution_count": 5,
   "metadata": {
    "execution": {
     "iopub.execute_input": "2023-09-24T16:54:05.388065Z",
     "iopub.status.busy": "2023-09-24T16:54:05.387708Z",
     "iopub.status.idle": "2023-09-24T16:54:05.402027Z",
     "shell.execute_reply": "2023-09-24T16:54:05.401201Z",
     "shell.execute_reply.started": "2023-09-24T16:54:05.388034Z"
    }
   },
   "outputs": [
    {
     "data": {
      "text/plain": [
       "(15509, 10)"
      ]
     },
     "execution_count": 5,
     "metadata": {},
     "output_type": "execute_result"
    }
   ],
   "source": [
    "df.shape"
   ]
  },
  {
   "cell_type": "code",
   "execution_count": 6,
   "metadata": {},
   "outputs": [
    {
     "data": {
      "text/plain": [
       "6"
      ]
     },
     "execution_count": 6,
     "metadata": {},
     "output_type": "execute_result"
    }
   ],
   "source": [
    "df.duplicated().sum()"
   ]
  },
  {
   "cell_type": "code",
   "execution_count": 7,
   "metadata": {},
   "outputs": [
    {
     "data": {
      "text/plain": [
       "Name        15509\n",
       "Year        14981\n",
       "Duration     7240\n",
       "Genre       13632\n",
       "Rating       7919\n",
       "Votes        7920\n",
       "Director    14984\n",
       "Actor 1     13892\n",
       "Actor 2     13125\n",
       "Actor 3     12365\n",
       "dtype: int64"
      ]
     },
     "execution_count": 7,
     "metadata": {},
     "output_type": "execute_result"
    }
   ],
   "source": [
    "df.notnull().sum()"
   ]
  },
  {
   "cell_type": "code",
   "execution_count": 8,
   "metadata": {
    "execution": {
     "iopub.execute_input": "2023-09-24T16:54:05.573185Z",
     "iopub.status.busy": "2023-09-24T16:54:05.572760Z",
     "iopub.status.idle": "2023-09-24T16:54:05.600944Z",
     "shell.execute_reply": "2023-09-24T16:54:05.599766Z",
     "shell.execute_reply.started": "2023-09-24T16:54:05.573153Z"
    }
   },
   "outputs": [
    {
     "name": "stdout",
     "output_type": "stream",
     "text": [
      "<class 'pandas.core.frame.DataFrame'>\n",
      "RangeIndex: 15509 entries, 0 to 15508\n",
      "Data columns (total 10 columns):\n",
      " #   Column    Non-Null Count  Dtype  \n",
      "---  ------    --------------  -----  \n",
      " 0   Name      15509 non-null  object \n",
      " 1   Year      14981 non-null  object \n",
      " 2   Duration  7240 non-null   object \n",
      " 3   Genre     13632 non-null  object \n",
      " 4   Rating    7919 non-null   float64\n",
      " 5   Votes     7920 non-null   object \n",
      " 6   Director  14984 non-null  object \n",
      " 7   Actor 1   13892 non-null  object \n",
      " 8   Actor 2   13125 non-null  object \n",
      " 9   Actor 3   12365 non-null  object \n",
      "dtypes: float64(1), object(9)\n",
      "memory usage: 1.2+ MB\n"
     ]
    }
   ],
   "source": [
    "df.info()"
   ]
  },
  {
   "cell_type": "code",
   "execution_count": 9,
   "metadata": {
    "execution": {
     "iopub.execute_input": "2023-09-24T16:54:05.608343Z",
     "iopub.status.busy": "2023-09-24T16:54:05.607950Z",
     "iopub.status.idle": "2023-09-24T16:54:05.614977Z",
     "shell.execute_reply": "2023-09-24T16:54:05.613667Z",
     "shell.execute_reply.started": "2023-09-24T16:54:05.608311Z"
    }
   },
   "outputs": [],
   "source": [
    "# Creating a function of calculating missing values percentage\n",
    "\n",
    "def missing_values_with_percent():\n",
    "    return pd.DataFrame({\n",
    "    'Missing Values': df.isna().sum().values,\n",
    "    'Percentage': ((df.isna().sum()/len(df)) * 100).apply(lambda x: f'{x:.2f}%')\n",
    "}, index=df.columns)"
   ]
  },
  {
   "cell_type": "code",
   "execution_count": 10,
   "metadata": {
    "execution": {
     "iopub.execute_input": "2023-09-24T16:54:06.491844Z",
     "iopub.status.busy": "2023-09-24T16:54:06.491447Z",
     "iopub.status.idle": "2023-09-24T16:54:06.533716Z",
     "shell.execute_reply": "2023-09-24T16:54:06.532512Z",
     "shell.execute_reply.started": "2023-09-24T16:54:06.491813Z"
    }
   },
   "outputs": [
    {
     "data": {
      "text/html": [
       "<div>\n",
       "<style scoped>\n",
       "    .dataframe tbody tr th:only-of-type {\n",
       "        vertical-align: middle;\n",
       "    }\n",
       "\n",
       "    .dataframe tbody tr th {\n",
       "        vertical-align: top;\n",
       "    }\n",
       "\n",
       "    .dataframe thead th {\n",
       "        text-align: right;\n",
       "    }\n",
       "</style>\n",
       "<table border=\"1\" class=\"dataframe\">\n",
       "  <thead>\n",
       "    <tr style=\"text-align: right;\">\n",
       "      <th></th>\n",
       "      <th>Missing Values</th>\n",
       "      <th>Percentage</th>\n",
       "    </tr>\n",
       "  </thead>\n",
       "  <tbody>\n",
       "    <tr>\n",
       "      <th>Name</th>\n",
       "      <td>0</td>\n",
       "      <td>0.00%</td>\n",
       "    </tr>\n",
       "    <tr>\n",
       "      <th>Year</th>\n",
       "      <td>528</td>\n",
       "      <td>3.40%</td>\n",
       "    </tr>\n",
       "    <tr>\n",
       "      <th>Duration</th>\n",
       "      <td>8269</td>\n",
       "      <td>53.32%</td>\n",
       "    </tr>\n",
       "    <tr>\n",
       "      <th>Genre</th>\n",
       "      <td>1877</td>\n",
       "      <td>12.10%</td>\n",
       "    </tr>\n",
       "    <tr>\n",
       "      <th>Rating</th>\n",
       "      <td>7590</td>\n",
       "      <td>48.94%</td>\n",
       "    </tr>\n",
       "    <tr>\n",
       "      <th>Votes</th>\n",
       "      <td>7589</td>\n",
       "      <td>48.93%</td>\n",
       "    </tr>\n",
       "    <tr>\n",
       "      <th>Director</th>\n",
       "      <td>525</td>\n",
       "      <td>3.39%</td>\n",
       "    </tr>\n",
       "    <tr>\n",
       "      <th>Actor 1</th>\n",
       "      <td>1617</td>\n",
       "      <td>10.43%</td>\n",
       "    </tr>\n",
       "    <tr>\n",
       "      <th>Actor 2</th>\n",
       "      <td>2384</td>\n",
       "      <td>15.37%</td>\n",
       "    </tr>\n",
       "    <tr>\n",
       "      <th>Actor 3</th>\n",
       "      <td>3144</td>\n",
       "      <td>20.27%</td>\n",
       "    </tr>\n",
       "  </tbody>\n",
       "</table>\n",
       "</div>"
      ],
      "text/plain": [
       "          Missing Values Percentage\n",
       "Name                   0      0.00%\n",
       "Year                 528      3.40%\n",
       "Duration            8269     53.32%\n",
       "Genre               1877     12.10%\n",
       "Rating              7590     48.94%\n",
       "Votes               7589     48.93%\n",
       "Director             525      3.39%\n",
       "Actor 1             1617     10.43%\n",
       "Actor 2             2384     15.37%\n",
       "Actor 3             3144     20.27%"
      ]
     },
     "execution_count": 10,
     "metadata": {},
     "output_type": "execute_result"
    }
   ],
   "source": [
    "missing_values_with_percent()"
   ]
  },
  {
   "cell_type": "markdown",
   "metadata": {},
   "source": [
    "# Data Cleaning"
   ]
  },
  {
   "cell_type": "code",
   "execution_count": 11,
   "metadata": {
    "execution": {
     "iopub.execute_input": "2023-09-24T16:54:06.568636Z",
     "iopub.status.busy": "2023-09-24T16:54:06.568018Z",
     "iopub.status.idle": "2023-09-24T16:54:06.597531Z",
     "shell.execute_reply": "2023-09-24T16:54:06.596638Z",
     "shell.execute_reply.started": "2023-09-24T16:54:06.568594Z"
    }
   },
   "outputs": [
    {
     "data": {
      "text/plain": [
       "1920     9\n",
       "1836     9\n",
       "3807     9\n",
       "8669     9\n",
       "9600     9\n",
       "        ..\n",
       "7385     0\n",
       "7383     0\n",
       "7380     0\n",
       "7377     0\n",
       "15508    0\n",
       "Length: 15509, dtype: int64"
      ]
     },
     "execution_count": 11,
     "metadata": {},
     "output_type": "execute_result"
    }
   ],
   "source": [
    "# checking for missing values according to row\n",
    "df.isnull().sum(axis=1).sort_values(ascending=False)"
   ]
  },
  {
   "cell_type": "code",
   "execution_count": 12,
   "metadata": {
    "execution": {
     "iopub.execute_input": "2023-09-24T16:54:06.599828Z",
     "iopub.status.busy": "2023-09-24T16:54:06.599503Z",
     "iopub.status.idle": "2023-09-24T16:54:06.607835Z",
     "shell.execute_reply": "2023-09-24T16:54:06.606739Z",
     "shell.execute_reply.started": "2023-09-24T16:54:06.599799Z"
    }
   },
   "outputs": [],
   "source": [
    "# Dropping the column Actor 2 and Actor 3 Because there are alot missing values in these columns and these column not much effect on ratings\n",
    "df.drop(['Actor 2', 'Actor 3'], axis=1, inplace=True)"
   ]
  },
  {
   "cell_type": "code",
   "execution_count": 13,
   "metadata": {
    "execution": {
     "iopub.execute_input": "2023-09-24T16:54:06.623159Z",
     "iopub.status.busy": "2023-09-24T16:54:06.622782Z",
     "iopub.status.idle": "2023-09-24T16:54:06.641680Z",
     "shell.execute_reply": "2023-09-24T16:54:06.640383Z",
     "shell.execute_reply.started": "2023-09-24T16:54:06.623112Z"
    }
   },
   "outputs": [
    {
     "data": {
      "text/html": [
       "<div>\n",
       "<style scoped>\n",
       "    .dataframe tbody tr th:only-of-type {\n",
       "        vertical-align: middle;\n",
       "    }\n",
       "\n",
       "    .dataframe tbody tr th {\n",
       "        vertical-align: top;\n",
       "    }\n",
       "\n",
       "    .dataframe thead th {\n",
       "        text-align: right;\n",
       "    }\n",
       "</style>\n",
       "<table border=\"1\" class=\"dataframe\">\n",
       "  <thead>\n",
       "    <tr style=\"text-align: right;\">\n",
       "      <th></th>\n",
       "      <th>Name</th>\n",
       "      <th>Year</th>\n",
       "      <th>Duration</th>\n",
       "      <th>Genre</th>\n",
       "      <th>Rating</th>\n",
       "      <th>Votes</th>\n",
       "      <th>Director</th>\n",
       "      <th>Actor 1</th>\n",
       "    </tr>\n",
       "  </thead>\n",
       "  <tbody>\n",
       "    <tr>\n",
       "      <th>135</th>\n",
       "      <td>A Ballad of Maladies</td>\n",
       "      <td>(2016)</td>\n",
       "      <td>86 min</td>\n",
       "      <td>Documentary, Music</td>\n",
       "      <td>NaN</td>\n",
       "      <td>NaN</td>\n",
       "      <td>Sarvnik Kaur</td>\n",
       "      <td>Tushar Madhav</td>\n",
       "    </tr>\n",
       "    <tr>\n",
       "      <th>136</th>\n",
       "      <td>A Ballad of Maladies</td>\n",
       "      <td>(2016)</td>\n",
       "      <td>86 min</td>\n",
       "      <td>Documentary, History, Music</td>\n",
       "      <td>NaN</td>\n",
       "      <td>NaN</td>\n",
       "      <td>Sarvnik Kaur</td>\n",
       "      <td>Tushar Madhav</td>\n",
       "    </tr>\n",
       "  </tbody>\n",
       "</table>\n",
       "</div>"
      ],
      "text/plain": [
       "                     Name    Year Duration                        Genre  \\\n",
       "135  A Ballad of Maladies  (2016)   86 min           Documentary, Music   \n",
       "136  A Ballad of Maladies  (2016)   86 min  Documentary, History, Music   \n",
       "\n",
       "     Rating Votes      Director        Actor 1  \n",
       "135     NaN   NaN  Sarvnik Kaur  Tushar Madhav  \n",
       "136     NaN   NaN  Sarvnik Kaur  Tushar Madhav  "
      ]
     },
     "execution_count": 13,
     "metadata": {},
     "output_type": "execute_result"
    }
   ],
   "source": [
    "# There are alot duplicate values, we have to resolve this issue too. its an example\n",
    "df[df['Name'] == 'A Ballad of Maladies']"
   ]
  },
  {
   "cell_type": "code",
   "execution_count": 14,
   "metadata": {
    "execution": {
     "iopub.execute_input": "2023-09-24T16:54:06.643688Z",
     "iopub.status.busy": "2023-09-24T16:54:06.643377Z",
     "iopub.status.idle": "2023-09-24T16:54:06.683499Z",
     "shell.execute_reply": "2023-09-24T16:54:06.682288Z",
     "shell.execute_reply.started": "2023-09-24T16:54:06.643661Z"
    }
   },
   "outputs": [
    {
     "data": {
      "text/html": [
       "<div>\n",
       "<style scoped>\n",
       "    .dataframe tbody tr th:only-of-type {\n",
       "        vertical-align: middle;\n",
       "    }\n",
       "\n",
       "    .dataframe tbody tr th {\n",
       "        vertical-align: top;\n",
       "    }\n",
       "\n",
       "    .dataframe thead th {\n",
       "        text-align: right;\n",
       "    }\n",
       "</style>\n",
       "<table border=\"1\" class=\"dataframe\">\n",
       "  <thead>\n",
       "    <tr style=\"text-align: right;\">\n",
       "      <th></th>\n",
       "      <th>Missing Values</th>\n",
       "      <th>Percentage</th>\n",
       "    </tr>\n",
       "  </thead>\n",
       "  <tbody>\n",
       "    <tr>\n",
       "      <th>Name</th>\n",
       "      <td>0</td>\n",
       "      <td>0.00%</td>\n",
       "    </tr>\n",
       "    <tr>\n",
       "      <th>Year</th>\n",
       "      <td>528</td>\n",
       "      <td>3.40%</td>\n",
       "    </tr>\n",
       "    <tr>\n",
       "      <th>Duration</th>\n",
       "      <td>8269</td>\n",
       "      <td>53.32%</td>\n",
       "    </tr>\n",
       "    <tr>\n",
       "      <th>Genre</th>\n",
       "      <td>1877</td>\n",
       "      <td>12.10%</td>\n",
       "    </tr>\n",
       "    <tr>\n",
       "      <th>Rating</th>\n",
       "      <td>7590</td>\n",
       "      <td>48.94%</td>\n",
       "    </tr>\n",
       "    <tr>\n",
       "      <th>Votes</th>\n",
       "      <td>7589</td>\n",
       "      <td>48.93%</td>\n",
       "    </tr>\n",
       "    <tr>\n",
       "      <th>Director</th>\n",
       "      <td>525</td>\n",
       "      <td>3.39%</td>\n",
       "    </tr>\n",
       "    <tr>\n",
       "      <th>Actor 1</th>\n",
       "      <td>1617</td>\n",
       "      <td>10.43%</td>\n",
       "    </tr>\n",
       "  </tbody>\n",
       "</table>\n",
       "</div>"
      ],
      "text/plain": [
       "          Missing Values Percentage\n",
       "Name                   0      0.00%\n",
       "Year                 528      3.40%\n",
       "Duration            8269     53.32%\n",
       "Genre               1877     12.10%\n",
       "Rating              7590     48.94%\n",
       "Votes               7589     48.93%\n",
       "Director             525      3.39%\n",
       "Actor 1             1617     10.43%"
      ]
     },
     "execution_count": 14,
     "metadata": {},
     "output_type": "execute_result"
    }
   ],
   "source": [
    "missing_values_with_percent()"
   ]
  },
  {
   "cell_type": "code",
   "execution_count": 15,
   "metadata": {
    "execution": {
     "iopub.execute_input": "2023-09-24T16:54:07.105837Z",
     "iopub.status.busy": "2023-09-24T16:54:07.105461Z",
     "iopub.status.idle": "2023-09-24T16:54:07.118438Z",
     "shell.execute_reply": "2023-09-24T16:54:07.116886Z",
     "shell.execute_reply.started": "2023-09-24T16:54:07.105807Z"
    }
   },
   "outputs": [],
   "source": [
    "df.dropna(subset=['Duration'],inplace=True)"
   ]
  },
  {
   "cell_type": "code",
   "execution_count": 16,
   "metadata": {
    "execution": {
     "iopub.execute_input": "2023-09-24T16:54:07.174743Z",
     "iopub.status.busy": "2023-09-24T16:54:07.173954Z",
     "iopub.status.idle": "2023-09-24T16:54:07.194382Z",
     "shell.execute_reply": "2023-09-24T16:54:07.193226Z",
     "shell.execute_reply.started": "2023-09-24T16:54:07.174698Z"
    }
   },
   "outputs": [
    {
     "name": "stderr",
     "output_type": "stream",
     "text": [
      "C:\\Users\\HP\\AppData\\Local\\Temp\\ipykernel_12664\\3690908795.py:2: UserWarning: Boolean Series key will be reindexed to match DataFrame index.\n",
      "  df = df[(df.isnull().sum(axis=1).sort_values(ascending=False) <= 5)]\n"
     ]
    }
   ],
   "source": [
    "# it will keep only those rows who have less the or equal to 5 NaN values\n",
    "df = df[(df.isnull().sum(axis=1).sort_values(ascending=False) <= 5)]"
   ]
  },
  {
   "cell_type": "code",
   "execution_count": 17,
   "metadata": {
    "execution": {
     "iopub.execute_input": "2023-09-24T16:54:07.197726Z",
     "iopub.status.busy": "2023-09-24T16:54:07.196676Z",
     "iopub.status.idle": "2023-09-24T16:54:07.224165Z",
     "shell.execute_reply": "2023-09-24T16:54:07.222981Z",
     "shell.execute_reply.started": "2023-09-24T16:54:07.197679Z"
    }
   },
   "outputs": [
    {
     "data": {
      "text/html": [
       "<div>\n",
       "<style scoped>\n",
       "    .dataframe tbody tr th:only-of-type {\n",
       "        vertical-align: middle;\n",
       "    }\n",
       "\n",
       "    .dataframe tbody tr th {\n",
       "        vertical-align: top;\n",
       "    }\n",
       "\n",
       "    .dataframe thead th {\n",
       "        text-align: right;\n",
       "    }\n",
       "</style>\n",
       "<table border=\"1\" class=\"dataframe\">\n",
       "  <thead>\n",
       "    <tr style=\"text-align: right;\">\n",
       "      <th></th>\n",
       "      <th>Missing Values</th>\n",
       "      <th>Percentage</th>\n",
       "    </tr>\n",
       "  </thead>\n",
       "  <tbody>\n",
       "    <tr>\n",
       "      <th>Name</th>\n",
       "      <td>0</td>\n",
       "      <td>0.00%</td>\n",
       "    </tr>\n",
       "    <tr>\n",
       "      <th>Year</th>\n",
       "      <td>125</td>\n",
       "      <td>1.73%</td>\n",
       "    </tr>\n",
       "    <tr>\n",
       "      <th>Duration</th>\n",
       "      <td>0</td>\n",
       "      <td>0.00%</td>\n",
       "    </tr>\n",
       "    <tr>\n",
       "      <th>Genre</th>\n",
       "      <td>187</td>\n",
       "      <td>2.58%</td>\n",
       "    </tr>\n",
       "    <tr>\n",
       "      <th>Rating</th>\n",
       "      <td>1389</td>\n",
       "      <td>19.19%</td>\n",
       "    </tr>\n",
       "    <tr>\n",
       "      <th>Votes</th>\n",
       "      <td>1389</td>\n",
       "      <td>19.19%</td>\n",
       "    </tr>\n",
       "    <tr>\n",
       "      <th>Director</th>\n",
       "      <td>14</td>\n",
       "      <td>0.19%</td>\n",
       "    </tr>\n",
       "    <tr>\n",
       "      <th>Actor 1</th>\n",
       "      <td>264</td>\n",
       "      <td>3.65%</td>\n",
       "    </tr>\n",
       "  </tbody>\n",
       "</table>\n",
       "</div>"
      ],
      "text/plain": [
       "          Missing Values Percentage\n",
       "Name                   0      0.00%\n",
       "Year                 125      1.73%\n",
       "Duration               0      0.00%\n",
       "Genre                187      2.58%\n",
       "Rating              1389     19.19%\n",
       "Votes               1389     19.19%\n",
       "Director              14      0.19%\n",
       "Actor 1              264      3.65%"
      ]
     },
     "execution_count": 17,
     "metadata": {},
     "output_type": "execute_result"
    }
   ],
   "source": [
    "missing_values_with_percent()"
   ]
  },
  {
   "cell_type": "code",
   "execution_count": 18,
   "metadata": {
    "execution": {
     "iopub.execute_input": "2023-09-24T16:54:07.246785Z",
     "iopub.status.busy": "2023-09-24T16:54:07.245667Z",
     "iopub.status.idle": "2023-09-24T16:54:07.256098Z",
     "shell.execute_reply": "2023-09-24T16:54:07.255238Z",
     "shell.execute_reply.started": "2023-09-24T16:54:07.246741Z"
    }
   },
   "outputs": [],
   "source": [
    "df.dropna(subset=['Rating','Votes'],inplace=True)"
   ]
  },
  {
   "cell_type": "code",
   "execution_count": 19,
   "metadata": {
    "execution": {
     "iopub.execute_input": "2023-09-24T16:54:07.265501Z",
     "iopub.status.busy": "2023-09-24T16:54:07.264791Z",
     "iopub.status.idle": "2023-09-24T16:54:07.288878Z",
     "shell.execute_reply": "2023-09-24T16:54:07.287760Z",
     "shell.execute_reply.started": "2023-09-24T16:54:07.265455Z"
    }
   },
   "outputs": [
    {
     "data": {
      "text/html": [
       "<div>\n",
       "<style scoped>\n",
       "    .dataframe tbody tr th:only-of-type {\n",
       "        vertical-align: middle;\n",
       "    }\n",
       "\n",
       "    .dataframe tbody tr th {\n",
       "        vertical-align: top;\n",
       "    }\n",
       "\n",
       "    .dataframe thead th {\n",
       "        text-align: right;\n",
       "    }\n",
       "</style>\n",
       "<table border=\"1\" class=\"dataframe\">\n",
       "  <thead>\n",
       "    <tr style=\"text-align: right;\">\n",
       "      <th></th>\n",
       "      <th>Missing Values</th>\n",
       "      <th>Percentage</th>\n",
       "    </tr>\n",
       "  </thead>\n",
       "  <tbody>\n",
       "    <tr>\n",
       "      <th>Name</th>\n",
       "      <td>0</td>\n",
       "      <td>0.00%</td>\n",
       "    </tr>\n",
       "    <tr>\n",
       "      <th>Year</th>\n",
       "      <td>0</td>\n",
       "      <td>0.00%</td>\n",
       "    </tr>\n",
       "    <tr>\n",
       "      <th>Duration</th>\n",
       "      <td>0</td>\n",
       "      <td>0.00%</td>\n",
       "    </tr>\n",
       "    <tr>\n",
       "      <th>Genre</th>\n",
       "      <td>31</td>\n",
       "      <td>0.53%</td>\n",
       "    </tr>\n",
       "    <tr>\n",
       "      <th>Rating</th>\n",
       "      <td>0</td>\n",
       "      <td>0.00%</td>\n",
       "    </tr>\n",
       "    <tr>\n",
       "      <th>Votes</th>\n",
       "      <td>0</td>\n",
       "      <td>0.00%</td>\n",
       "    </tr>\n",
       "    <tr>\n",
       "      <th>Director</th>\n",
       "      <td>1</td>\n",
       "      <td>0.02%</td>\n",
       "    </tr>\n",
       "    <tr>\n",
       "      <th>Actor 1</th>\n",
       "      <td>75</td>\n",
       "      <td>1.28%</td>\n",
       "    </tr>\n",
       "  </tbody>\n",
       "</table>\n",
       "</div>"
      ],
      "text/plain": [
       "          Missing Values Percentage\n",
       "Name                   0      0.00%\n",
       "Year                   0      0.00%\n",
       "Duration               0      0.00%\n",
       "Genre                 31      0.53%\n",
       "Rating                 0      0.00%\n",
       "Votes                  0      0.00%\n",
       "Director               1      0.02%\n",
       "Actor 1               75      1.28%"
      ]
     },
     "execution_count": 19,
     "metadata": {},
     "output_type": "execute_result"
    }
   ],
   "source": [
    "missing_values_with_percent()"
   ]
  },
  {
   "cell_type": "code",
   "execution_count": 20,
   "metadata": {
    "execution": {
     "iopub.execute_input": "2023-09-24T16:54:07.292018Z",
     "iopub.status.busy": "2023-09-24T16:54:07.291314Z",
     "iopub.status.idle": "2023-09-24T16:54:07.306782Z",
     "shell.execute_reply": "2023-09-24T16:54:07.305314Z",
     "shell.execute_reply.started": "2023-09-24T16:54:07.291978Z"
    }
   },
   "outputs": [
    {
     "data": {
      "text/plain": [
       "count             5850\n",
       "unique            2549\n",
       "top       David Dhawan\n",
       "freq                41\n",
       "Name: Director, dtype: object"
      ]
     },
     "execution_count": 20,
     "metadata": {},
     "output_type": "execute_result"
    }
   ],
   "source": [
    "# same process goes with Director Column\n",
    "df.Director.describe()"
   ]
  },
  {
   "cell_type": "code",
   "execution_count": 21,
   "metadata": {
    "execution": {
     "iopub.execute_input": "2023-09-24T16:54:07.309769Z",
     "iopub.status.busy": "2023-09-24T16:54:07.309022Z",
     "iopub.status.idle": "2023-09-24T16:54:07.327524Z",
     "shell.execute_reply": "2023-09-24T16:54:07.326179Z",
     "shell.execute_reply.started": "2023-09-24T16:54:07.309728Z"
    }
   },
   "outputs": [
    {
     "data": {
      "text/plain": [
       "Director\n",
       "David Dhawan            41\n",
       "Mahesh Bhatt            39\n",
       "Ram Gopal Varma         34\n",
       "Shakti Samanta          34\n",
       "Hrishikesh Mukherjee    33\n",
       "                        ..\n",
       "Kathir                   1\n",
       "Kashmira Shah            1\n",
       "Kashinath                1\n",
       "Kasam Ali                1\n",
       "Zunaid Memon             1\n",
       "Name: Director, Length: 2549, dtype: int64"
      ]
     },
     "execution_count": 21,
     "metadata": {},
     "output_type": "execute_result"
    }
   ],
   "source": [
    "df.groupby('Director').Director.count().sort_values(ascending=False)"
   ]
  },
  {
   "cell_type": "code",
   "execution_count": 22,
   "metadata": {
    "execution": {
     "iopub.execute_input": "2023-09-24T16:54:07.329999Z",
     "iopub.status.busy": "2023-09-24T16:54:07.329287Z",
     "iopub.status.idle": "2023-09-24T16:54:07.337559Z",
     "shell.execute_reply": "2023-09-24T16:54:07.336385Z",
     "shell.execute_reply.started": "2023-09-24T16:54:07.329958Z"
    }
   },
   "outputs": [],
   "source": [
    "df['Director'].fillna('David Dhawan',inplace=True)"
   ]
  },
  {
   "cell_type": "code",
   "execution_count": 23,
   "metadata": {
    "execution": {
     "iopub.execute_input": "2023-09-24T16:54:07.359411Z",
     "iopub.status.busy": "2023-09-24T16:54:07.358681Z",
     "iopub.status.idle": "2023-09-24T16:54:07.383628Z",
     "shell.execute_reply": "2023-09-24T16:54:07.382206Z",
     "shell.execute_reply.started": "2023-09-24T16:54:07.359365Z"
    }
   },
   "outputs": [
    {
     "data": {
      "text/html": [
       "<div>\n",
       "<style scoped>\n",
       "    .dataframe tbody tr th:only-of-type {\n",
       "        vertical-align: middle;\n",
       "    }\n",
       "\n",
       "    .dataframe tbody tr th {\n",
       "        vertical-align: top;\n",
       "    }\n",
       "\n",
       "    .dataframe thead th {\n",
       "        text-align: right;\n",
       "    }\n",
       "</style>\n",
       "<table border=\"1\" class=\"dataframe\">\n",
       "  <thead>\n",
       "    <tr style=\"text-align: right;\">\n",
       "      <th></th>\n",
       "      <th>Missing Values</th>\n",
       "      <th>Percentage</th>\n",
       "    </tr>\n",
       "  </thead>\n",
       "  <tbody>\n",
       "    <tr>\n",
       "      <th>Name</th>\n",
       "      <td>0</td>\n",
       "      <td>0.00%</td>\n",
       "    </tr>\n",
       "    <tr>\n",
       "      <th>Year</th>\n",
       "      <td>0</td>\n",
       "      <td>0.00%</td>\n",
       "    </tr>\n",
       "    <tr>\n",
       "      <th>Duration</th>\n",
       "      <td>0</td>\n",
       "      <td>0.00%</td>\n",
       "    </tr>\n",
       "    <tr>\n",
       "      <th>Genre</th>\n",
       "      <td>31</td>\n",
       "      <td>0.53%</td>\n",
       "    </tr>\n",
       "    <tr>\n",
       "      <th>Rating</th>\n",
       "      <td>0</td>\n",
       "      <td>0.00%</td>\n",
       "    </tr>\n",
       "    <tr>\n",
       "      <th>Votes</th>\n",
       "      <td>0</td>\n",
       "      <td>0.00%</td>\n",
       "    </tr>\n",
       "    <tr>\n",
       "      <th>Director</th>\n",
       "      <td>0</td>\n",
       "      <td>0.00%</td>\n",
       "    </tr>\n",
       "    <tr>\n",
       "      <th>Actor 1</th>\n",
       "      <td>75</td>\n",
       "      <td>1.28%</td>\n",
       "    </tr>\n",
       "  </tbody>\n",
       "</table>\n",
       "</div>"
      ],
      "text/plain": [
       "          Missing Values Percentage\n",
       "Name                   0      0.00%\n",
       "Year                   0      0.00%\n",
       "Duration               0      0.00%\n",
       "Genre                 31      0.53%\n",
       "Rating                 0      0.00%\n",
       "Votes                  0      0.00%\n",
       "Director               0      0.00%\n",
       "Actor 1               75      1.28%"
      ]
     },
     "execution_count": 23,
     "metadata": {},
     "output_type": "execute_result"
    }
   ],
   "source": [
    "missing_values_with_percent()"
   ]
  },
  {
   "cell_type": "code",
   "execution_count": 24,
   "metadata": {
    "execution": {
     "iopub.execute_input": "2023-09-24T16:54:07.500675Z",
     "iopub.status.busy": "2023-09-24T16:54:07.500298Z",
     "iopub.status.idle": "2023-09-24T16:54:07.514743Z",
     "shell.execute_reply": "2023-09-24T16:54:07.513550Z",
     "shell.execute_reply.started": "2023-09-24T16:54:07.500645Z"
    }
   },
   "outputs": [
    {
     "data": {
      "text/plain": [
       "Genre\n",
       "Drama                            870\n",
       "Drama, Romance                   334\n",
       "Action, Crime, Drama             329\n",
       "Action, Drama                    207\n",
       "Comedy, Drama                    206\n",
       "                                ... \n",
       "Documentary, Adventure, Crime      1\n",
       "Documentary, Adventure, Music      1\n",
       "Documentary, Biography, Music      1\n",
       "Documentary, Comedy, Drama         1\n",
       "Crime, Musical, Mystery            1\n",
       "Name: Genre, Length: 393, dtype: int64"
      ]
     },
     "execution_count": 24,
     "metadata": {},
     "output_type": "execute_result"
    }
   ],
   "source": [
    "# fill genre column with drama\n",
    "df.groupby('Genre').Genre.count().sort_values(ascending=False)"
   ]
  },
  {
   "cell_type": "code",
   "execution_count": 25,
   "metadata": {
    "execution": {
     "iopub.execute_input": "2023-09-24T16:54:07.518170Z",
     "iopub.status.busy": "2023-09-24T16:54:07.517463Z",
     "iopub.status.idle": "2023-09-24T16:54:07.526186Z",
     "shell.execute_reply": "2023-09-24T16:54:07.524851Z",
     "shell.execute_reply.started": "2023-09-24T16:54:07.518108Z"
    }
   },
   "outputs": [],
   "source": [
    "df['Genre'].fillna('Drama',inplace=True)"
   ]
  },
  {
   "cell_type": "code",
   "execution_count": 26,
   "metadata": {
    "execution": {
     "iopub.execute_input": "2023-09-24T16:54:07.560488Z",
     "iopub.status.busy": "2023-09-24T16:54:07.559732Z",
     "iopub.status.idle": "2023-09-24T16:54:07.587627Z",
     "shell.execute_reply": "2023-09-24T16:54:07.586204Z",
     "shell.execute_reply.started": "2023-09-24T16:54:07.560439Z"
    }
   },
   "outputs": [
    {
     "data": {
      "text/html": [
       "<div>\n",
       "<style scoped>\n",
       "    .dataframe tbody tr th:only-of-type {\n",
       "        vertical-align: middle;\n",
       "    }\n",
       "\n",
       "    .dataframe tbody tr th {\n",
       "        vertical-align: top;\n",
       "    }\n",
       "\n",
       "    .dataframe thead th {\n",
       "        text-align: right;\n",
       "    }\n",
       "</style>\n",
       "<table border=\"1\" class=\"dataframe\">\n",
       "  <thead>\n",
       "    <tr style=\"text-align: right;\">\n",
       "      <th></th>\n",
       "      <th>Missing Values</th>\n",
       "      <th>Percentage</th>\n",
       "    </tr>\n",
       "  </thead>\n",
       "  <tbody>\n",
       "    <tr>\n",
       "      <th>Name</th>\n",
       "      <td>0</td>\n",
       "      <td>0.00%</td>\n",
       "    </tr>\n",
       "    <tr>\n",
       "      <th>Year</th>\n",
       "      <td>0</td>\n",
       "      <td>0.00%</td>\n",
       "    </tr>\n",
       "    <tr>\n",
       "      <th>Duration</th>\n",
       "      <td>0</td>\n",
       "      <td>0.00%</td>\n",
       "    </tr>\n",
       "    <tr>\n",
       "      <th>Genre</th>\n",
       "      <td>0</td>\n",
       "      <td>0.00%</td>\n",
       "    </tr>\n",
       "    <tr>\n",
       "      <th>Rating</th>\n",
       "      <td>0</td>\n",
       "      <td>0.00%</td>\n",
       "    </tr>\n",
       "    <tr>\n",
       "      <th>Votes</th>\n",
       "      <td>0</td>\n",
       "      <td>0.00%</td>\n",
       "    </tr>\n",
       "    <tr>\n",
       "      <th>Director</th>\n",
       "      <td>0</td>\n",
       "      <td>0.00%</td>\n",
       "    </tr>\n",
       "    <tr>\n",
       "      <th>Actor 1</th>\n",
       "      <td>75</td>\n",
       "      <td>1.28%</td>\n",
       "    </tr>\n",
       "  </tbody>\n",
       "</table>\n",
       "</div>"
      ],
      "text/plain": [
       "          Missing Values Percentage\n",
       "Name                   0      0.00%\n",
       "Year                   0      0.00%\n",
       "Duration               0      0.00%\n",
       "Genre                  0      0.00%\n",
       "Rating                 0      0.00%\n",
       "Votes                  0      0.00%\n",
       "Director               0      0.00%\n",
       "Actor 1               75      1.28%"
      ]
     },
     "execution_count": 26,
     "metadata": {},
     "output_type": "execute_result"
    }
   ],
   "source": [
    "missing_values_with_percent()"
   ]
  },
  {
   "cell_type": "code",
   "execution_count": 27,
   "metadata": {
    "execution": {
     "iopub.execute_input": "2023-09-24T16:54:07.590908Z",
     "iopub.status.busy": "2023-09-24T16:54:07.590468Z",
     "iopub.status.idle": "2023-09-24T16:54:07.605431Z",
     "shell.execute_reply": "2023-09-24T16:54:07.603996Z",
     "shell.execute_reply.started": "2023-09-24T16:54:07.590865Z"
    }
   },
   "outputs": [
    {
     "data": {
      "text/plain": [
       "count                 5776\n",
       "unique                2046\n",
       "top       Amitabh Bachchan\n",
       "freq                   104\n",
       "Name: Actor 1, dtype: object"
      ]
     },
     "execution_count": 27,
     "metadata": {},
     "output_type": "execute_result"
    }
   ],
   "source": [
    "# Same thing apply with Actor 1 Column\n",
    "df['Actor 1'].describe()"
   ]
  },
  {
   "cell_type": "code",
   "execution_count": 28,
   "metadata": {
    "execution": {
     "iopub.execute_input": "2023-09-24T16:54:08.009891Z",
     "iopub.status.busy": "2023-09-24T16:54:08.009501Z",
     "iopub.status.idle": "2023-09-24T16:54:08.017920Z",
     "shell.execute_reply": "2023-09-24T16:54:08.016316Z",
     "shell.execute_reply.started": "2023-09-24T16:54:08.009853Z"
    }
   },
   "outputs": [],
   "source": [
    "df['Actor 1'].fillna('Amitabh Bachchan', inplace=True)"
   ]
  },
  {
   "cell_type": "code",
   "execution_count": 29,
   "metadata": {
    "execution": {
     "iopub.execute_input": "2023-09-24T16:54:08.057408Z",
     "iopub.status.busy": "2023-09-24T16:54:08.056989Z",
     "iopub.status.idle": "2023-09-24T16:54:08.080801Z",
     "shell.execute_reply": "2023-09-24T16:54:08.079567Z",
     "shell.execute_reply.started": "2023-09-24T16:54:08.057376Z"
    }
   },
   "outputs": [
    {
     "data": {
      "text/html": [
       "<div>\n",
       "<style scoped>\n",
       "    .dataframe tbody tr th:only-of-type {\n",
       "        vertical-align: middle;\n",
       "    }\n",
       "\n",
       "    .dataframe tbody tr th {\n",
       "        vertical-align: top;\n",
       "    }\n",
       "\n",
       "    .dataframe thead th {\n",
       "        text-align: right;\n",
       "    }\n",
       "</style>\n",
       "<table border=\"1\" class=\"dataframe\">\n",
       "  <thead>\n",
       "    <tr style=\"text-align: right;\">\n",
       "      <th></th>\n",
       "      <th>Missing Values</th>\n",
       "      <th>Percentage</th>\n",
       "    </tr>\n",
       "  </thead>\n",
       "  <tbody>\n",
       "    <tr>\n",
       "      <th>Name</th>\n",
       "      <td>0</td>\n",
       "      <td>0.00%</td>\n",
       "    </tr>\n",
       "    <tr>\n",
       "      <th>Year</th>\n",
       "      <td>0</td>\n",
       "      <td>0.00%</td>\n",
       "    </tr>\n",
       "    <tr>\n",
       "      <th>Duration</th>\n",
       "      <td>0</td>\n",
       "      <td>0.00%</td>\n",
       "    </tr>\n",
       "    <tr>\n",
       "      <th>Genre</th>\n",
       "      <td>0</td>\n",
       "      <td>0.00%</td>\n",
       "    </tr>\n",
       "    <tr>\n",
       "      <th>Rating</th>\n",
       "      <td>0</td>\n",
       "      <td>0.00%</td>\n",
       "    </tr>\n",
       "    <tr>\n",
       "      <th>Votes</th>\n",
       "      <td>0</td>\n",
       "      <td>0.00%</td>\n",
       "    </tr>\n",
       "    <tr>\n",
       "      <th>Director</th>\n",
       "      <td>0</td>\n",
       "      <td>0.00%</td>\n",
       "    </tr>\n",
       "    <tr>\n",
       "      <th>Actor 1</th>\n",
       "      <td>0</td>\n",
       "      <td>0.00%</td>\n",
       "    </tr>\n",
       "  </tbody>\n",
       "</table>\n",
       "</div>"
      ],
      "text/plain": [
       "          Missing Values Percentage\n",
       "Name                   0      0.00%\n",
       "Year                   0      0.00%\n",
       "Duration               0      0.00%\n",
       "Genre                  0      0.00%\n",
       "Rating                 0      0.00%\n",
       "Votes                  0      0.00%\n",
       "Director               0      0.00%\n",
       "Actor 1                0      0.00%"
      ]
     },
     "execution_count": 29,
     "metadata": {},
     "output_type": "execute_result"
    }
   ],
   "source": [
    "missing_values_with_percent()"
   ]
  },
  {
   "cell_type": "code",
   "execution_count": 30,
   "metadata": {
    "execution": {
     "iopub.execute_input": "2023-09-24T16:54:08.083950Z",
     "iopub.status.busy": "2023-09-24T16:54:08.083473Z",
     "iopub.status.idle": "2023-09-24T16:54:08.104454Z",
     "shell.execute_reply": "2023-09-24T16:54:08.103200Z",
     "shell.execute_reply.started": "2023-09-24T16:54:08.083885Z"
    }
   },
   "outputs": [
    {
     "data": {
      "text/html": [
       "<div>\n",
       "<style scoped>\n",
       "    .dataframe tbody tr th:only-of-type {\n",
       "        vertical-align: middle;\n",
       "    }\n",
       "\n",
       "    .dataframe tbody tr th {\n",
       "        vertical-align: top;\n",
       "    }\n",
       "\n",
       "    .dataframe thead th {\n",
       "        text-align: right;\n",
       "    }\n",
       "</style>\n",
       "<table border=\"1\" class=\"dataframe\">\n",
       "  <thead>\n",
       "    <tr style=\"text-align: right;\">\n",
       "      <th></th>\n",
       "      <th>Name</th>\n",
       "      <th>Year</th>\n",
       "      <th>Duration</th>\n",
       "      <th>Genre</th>\n",
       "      <th>Rating</th>\n",
       "      <th>Votes</th>\n",
       "      <th>Director</th>\n",
       "      <th>Actor 1</th>\n",
       "    </tr>\n",
       "  </thead>\n",
       "  <tbody>\n",
       "    <tr>\n",
       "      <th>1</th>\n",
       "      <td>#Gadhvi (He thought he was Gandhi)</td>\n",
       "      <td>(2019)</td>\n",
       "      <td>109 min</td>\n",
       "      <td>Drama</td>\n",
       "      <td>7.0</td>\n",
       "      <td>8</td>\n",
       "      <td>Gaurav Bakshi</td>\n",
       "      <td>Rasika Dugal</td>\n",
       "    </tr>\n",
       "    <tr>\n",
       "      <th>3</th>\n",
       "      <td>#Yaaram</td>\n",
       "      <td>(2019)</td>\n",
       "      <td>110 min</td>\n",
       "      <td>Comedy, Romance</td>\n",
       "      <td>4.4</td>\n",
       "      <td>35</td>\n",
       "      <td>Ovais Khan</td>\n",
       "      <td>Prateik</td>\n",
       "    </tr>\n",
       "    <tr>\n",
       "      <th>5</th>\n",
       "      <td>...Aur Pyaar Ho Gaya</td>\n",
       "      <td>(1997)</td>\n",
       "      <td>147 min</td>\n",
       "      <td>Comedy, Drama, Musical</td>\n",
       "      <td>4.7</td>\n",
       "      <td>827</td>\n",
       "      <td>Rahul Rawail</td>\n",
       "      <td>Bobby Deol</td>\n",
       "    </tr>\n",
       "    <tr>\n",
       "      <th>6</th>\n",
       "      <td>...Yahaan</td>\n",
       "      <td>(2005)</td>\n",
       "      <td>142 min</td>\n",
       "      <td>Drama, Romance, War</td>\n",
       "      <td>7.4</td>\n",
       "      <td>1,086</td>\n",
       "      <td>Shoojit Sircar</td>\n",
       "      <td>Jimmy Sheirgill</td>\n",
       "    </tr>\n",
       "    <tr>\n",
       "      <th>8</th>\n",
       "      <td>?: A Question Mark</td>\n",
       "      <td>(2012)</td>\n",
       "      <td>82 min</td>\n",
       "      <td>Horror, Mystery, Thriller</td>\n",
       "      <td>5.6</td>\n",
       "      <td>326</td>\n",
       "      <td>Allyson Patel</td>\n",
       "      <td>Yash Dave</td>\n",
       "    </tr>\n",
       "  </tbody>\n",
       "</table>\n",
       "</div>"
      ],
      "text/plain": [
       "                                 Name    Year Duration  \\\n",
       "1  #Gadhvi (He thought he was Gandhi)  (2019)  109 min   \n",
       "3                             #Yaaram  (2019)  110 min   \n",
       "5                ...Aur Pyaar Ho Gaya  (1997)  147 min   \n",
       "6                           ...Yahaan  (2005)  142 min   \n",
       "8                  ?: A Question Mark  (2012)   82 min   \n",
       "\n",
       "                       Genre  Rating  Votes        Director          Actor 1  \n",
       "1                      Drama     7.0      8   Gaurav Bakshi     Rasika Dugal  \n",
       "3            Comedy, Romance     4.4     35      Ovais Khan          Prateik  \n",
       "5     Comedy, Drama, Musical     4.7    827    Rahul Rawail       Bobby Deol  \n",
       "6        Drama, Romance, War     7.4  1,086  Shoojit Sircar  Jimmy Sheirgill  \n",
       "8  Horror, Mystery, Thriller     5.6    326   Allyson Patel        Yash Dave  "
      ]
     },
     "execution_count": 30,
     "metadata": {},
     "output_type": "execute_result"
    }
   ],
   "source": [
    "df.head()"
   ]
  },
  {
   "cell_type": "markdown",
   "metadata": {},
   "source": [
    "## Now Dealing with Column Accuracy"
   ]
  },
  {
   "cell_type": "code",
   "execution_count": 31,
   "metadata": {
    "execution": {
     "iopub.execute_input": "2023-09-24T16:54:08.257220Z",
     "iopub.status.busy": "2023-09-24T16:54:08.256800Z",
     "iopub.status.idle": "2023-09-24T16:54:08.274965Z",
     "shell.execute_reply": "2023-09-24T16:54:08.273706Z",
     "shell.execute_reply.started": "2023-09-24T16:54:08.257184Z"
    }
   },
   "outputs": [],
   "source": [
    "df['Year'] = df['Year'].str.replace(r'[()]', '', regex=True)"
   ]
  },
  {
   "cell_type": "code",
   "execution_count": 32,
   "metadata": {
    "execution": {
     "iopub.execute_input": "2023-09-24T16:54:08.277598Z",
     "iopub.status.busy": "2023-09-24T16:54:08.277258Z",
     "iopub.status.idle": "2023-09-24T16:54:08.291933Z",
     "shell.execute_reply": "2023-09-24T16:54:08.291061Z",
     "shell.execute_reply.started": "2023-09-24T16:54:08.277568Z"
    }
   },
   "outputs": [],
   "source": [
    "df['Duration'] = df['Duration'].str.replace(r' min', '', regex=True)"
   ]
  },
  {
   "cell_type": "code",
   "execution_count": 33,
   "metadata": {
    "execution": {
     "iopub.execute_input": "2023-09-24T16:54:08.293650Z",
     "iopub.status.busy": "2023-09-24T16:54:08.293324Z",
     "iopub.status.idle": "2023-09-24T16:54:08.318699Z",
     "shell.execute_reply": "2023-09-24T16:54:08.317540Z",
     "shell.execute_reply.started": "2023-09-24T16:54:08.293621Z"
    }
   },
   "outputs": [
    {
     "name": "stdout",
     "output_type": "stream",
     "text": [
      "<class 'pandas.core.frame.DataFrame'>\n",
      "Int64Index: 5851 entries, 1 to 15508\n",
      "Data columns (total 8 columns):\n",
      " #   Column    Non-Null Count  Dtype  \n",
      "---  ------    --------------  -----  \n",
      " 0   Name      5851 non-null   object \n",
      " 1   Year      5851 non-null   object \n",
      " 2   Duration  5851 non-null   object \n",
      " 3   Genre     5851 non-null   object \n",
      " 4   Rating    5851 non-null   float64\n",
      " 5   Votes     5851 non-null   object \n",
      " 6   Director  5851 non-null   object \n",
      " 7   Actor 1   5851 non-null   object \n",
      "dtypes: float64(1), object(7)\n",
      "memory usage: 411.4+ KB\n"
     ]
    }
   ],
   "source": [
    "df.info()"
   ]
  },
  {
   "cell_type": "markdown",
   "metadata": {},
   "source": [
    "### Changing Column Data Type for EDA"
   ]
  },
  {
   "cell_type": "code",
   "execution_count": 34,
   "metadata": {
    "execution": {
     "iopub.execute_input": "2023-09-24T16:54:08.320653Z",
     "iopub.status.busy": "2023-09-24T16:54:08.320310Z",
     "iopub.status.idle": "2023-09-24T16:54:08.336397Z",
     "shell.execute_reply": "2023-09-24T16:54:08.335172Z",
     "shell.execute_reply.started": "2023-09-24T16:54:08.320623Z"
    }
   },
   "outputs": [],
   "source": [
    "df['Year'] = df['Year'].astype('int')\n",
    "df['Duration'] = df['Duration'].astype('int')"
   ]
  },
  {
   "cell_type": "code",
   "execution_count": 35,
   "metadata": {
    "execution": {
     "iopub.execute_input": "2023-09-24T16:54:08.340370Z",
     "iopub.status.busy": "2023-09-24T16:54:08.339624Z",
     "iopub.status.idle": "2023-09-24T16:54:08.355147Z",
     "shell.execute_reply": "2023-09-24T16:54:08.354265Z",
     "shell.execute_reply.started": "2023-09-24T16:54:08.340334Z"
    }
   },
   "outputs": [],
   "source": [
    "df['Votes'] = df['Votes'].str.replace(',','')"
   ]
  },
  {
   "cell_type": "code",
   "execution_count": 36,
   "metadata": {
    "execution": {
     "iopub.execute_input": "2023-09-24T16:54:08.357387Z",
     "iopub.status.busy": "2023-09-24T16:54:08.356739Z",
     "iopub.status.idle": "2023-09-24T16:54:08.364549Z",
     "shell.execute_reply": "2023-09-24T16:54:08.363666Z",
     "shell.execute_reply.started": "2023-09-24T16:54:08.357355Z"
    }
   },
   "outputs": [],
   "source": [
    "df['Votes'] = df['Votes'].astype('int')"
   ]
  },
  {
   "cell_type": "code",
   "execution_count": 37,
   "metadata": {
    "execution": {
     "iopub.execute_input": "2023-09-24T16:54:08.366542Z",
     "iopub.status.busy": "2023-09-24T16:54:08.365704Z",
     "iopub.status.idle": "2023-09-24T16:54:08.386145Z",
     "shell.execute_reply": "2023-09-24T16:54:08.385320Z",
     "shell.execute_reply.started": "2023-09-24T16:54:08.366510Z"
    }
   },
   "outputs": [
    {
     "name": "stdout",
     "output_type": "stream",
     "text": [
      "<class 'pandas.core.frame.DataFrame'>\n",
      "Int64Index: 5851 entries, 1 to 15508\n",
      "Data columns (total 8 columns):\n",
      " #   Column    Non-Null Count  Dtype  \n",
      "---  ------    --------------  -----  \n",
      " 0   Name      5851 non-null   object \n",
      " 1   Year      5851 non-null   int32  \n",
      " 2   Duration  5851 non-null   int32  \n",
      " 3   Genre     5851 non-null   object \n",
      " 4   Rating    5851 non-null   float64\n",
      " 5   Votes     5851 non-null   int32  \n",
      " 6   Director  5851 non-null   object \n",
      " 7   Actor 1   5851 non-null   object \n",
      "dtypes: float64(1), int32(3), object(4)\n",
      "memory usage: 342.8+ KB\n"
     ]
    }
   ],
   "source": [
    "df.info()"
   ]
  },
  {
   "cell_type": "code",
   "execution_count": 38,
   "metadata": {
    "execution": {
     "iopub.execute_input": "2023-09-24T16:54:08.388210Z",
     "iopub.status.busy": "2023-09-24T16:54:08.387252Z",
     "iopub.status.idle": "2023-09-24T16:54:08.411637Z",
     "shell.execute_reply": "2023-09-24T16:54:08.410402Z",
     "shell.execute_reply.started": "2023-09-24T16:54:08.388176Z"
    }
   },
   "outputs": [
    {
     "data": {
      "text/html": [
       "<div>\n",
       "<style scoped>\n",
       "    .dataframe tbody tr th:only-of-type {\n",
       "        vertical-align: middle;\n",
       "    }\n",
       "\n",
       "    .dataframe tbody tr th {\n",
       "        vertical-align: top;\n",
       "    }\n",
       "\n",
       "    .dataframe thead th {\n",
       "        text-align: right;\n",
       "    }\n",
       "</style>\n",
       "<table border=\"1\" class=\"dataframe\">\n",
       "  <thead>\n",
       "    <tr style=\"text-align: right;\">\n",
       "      <th></th>\n",
       "      <th>Year</th>\n",
       "      <th>Duration</th>\n",
       "      <th>Rating</th>\n",
       "      <th>Votes</th>\n",
       "    </tr>\n",
       "  </thead>\n",
       "  <tbody>\n",
       "    <tr>\n",
       "      <th>count</th>\n",
       "      <td>5851.000000</td>\n",
       "      <td>5851.000000</td>\n",
       "      <td>5851.000000</td>\n",
       "      <td>5851.000000</td>\n",
       "    </tr>\n",
       "    <tr>\n",
       "      <th>mean</th>\n",
       "      <td>1996.416852</td>\n",
       "      <td>132.294480</td>\n",
       "      <td>5.931875</td>\n",
       "      <td>2611.273116</td>\n",
       "    </tr>\n",
       "    <tr>\n",
       "      <th>std</th>\n",
       "      <td>19.914640</td>\n",
       "      <td>26.555826</td>\n",
       "      <td>1.389942</td>\n",
       "      <td>13433.828528</td>\n",
       "    </tr>\n",
       "    <tr>\n",
       "      <th>min</th>\n",
       "      <td>1931.000000</td>\n",
       "      <td>21.000000</td>\n",
       "      <td>1.100000</td>\n",
       "      <td>5.000000</td>\n",
       "    </tr>\n",
       "    <tr>\n",
       "      <th>25%</th>\n",
       "      <td>1983.000000</td>\n",
       "      <td>117.000000</td>\n",
       "      <td>5.000000</td>\n",
       "      <td>28.000000</td>\n",
       "    </tr>\n",
       "    <tr>\n",
       "      <th>50%</th>\n",
       "      <td>2002.000000</td>\n",
       "      <td>134.000000</td>\n",
       "      <td>6.100000</td>\n",
       "      <td>119.000000</td>\n",
       "    </tr>\n",
       "    <tr>\n",
       "      <th>75%</th>\n",
       "      <td>2013.000000</td>\n",
       "      <td>150.000000</td>\n",
       "      <td>7.000000</td>\n",
       "      <td>862.500000</td>\n",
       "    </tr>\n",
       "    <tr>\n",
       "      <th>max</th>\n",
       "      <td>2021.000000</td>\n",
       "      <td>321.000000</td>\n",
       "      <td>10.000000</td>\n",
       "      <td>591417.000000</td>\n",
       "    </tr>\n",
       "  </tbody>\n",
       "</table>\n",
       "</div>"
      ],
      "text/plain": [
       "              Year     Duration       Rating          Votes\n",
       "count  5851.000000  5851.000000  5851.000000    5851.000000\n",
       "mean   1996.416852   132.294480     5.931875    2611.273116\n",
       "std      19.914640    26.555826     1.389942   13433.828528\n",
       "min    1931.000000    21.000000     1.100000       5.000000\n",
       "25%    1983.000000   117.000000     5.000000      28.000000\n",
       "50%    2002.000000   134.000000     6.100000     119.000000\n",
       "75%    2013.000000   150.000000     7.000000     862.500000\n",
       "max    2021.000000   321.000000    10.000000  591417.000000"
      ]
     },
     "execution_count": 38,
     "metadata": {},
     "output_type": "execute_result"
    }
   ],
   "source": [
    "df.describe()"
   ]
  },
  {
   "cell_type": "markdown",
   "metadata": {},
   "source": [
    "# Model Building"
   ]
  },
  {
   "cell_type": "code",
   "execution_count": 39,
   "metadata": {
    "execution": {
     "iopub.execute_input": "2023-09-24T16:54:15.535937Z",
     "iopub.status.busy": "2023-09-24T16:54:15.535495Z",
     "iopub.status.idle": "2023-09-24T16:54:15.546879Z",
     "shell.execute_reply": "2023-09-24T16:54:15.545384Z",
     "shell.execute_reply.started": "2023-09-24T16:54:15.535895Z"
    }
   },
   "outputs": [],
   "source": [
    "# Example for encoding 'Genre' based on frequency\n",
    "genre_counts = df['Genre'].value_counts()\n",
    "df['Genre_encoded'] = df['Genre'].map(genre_counts)"
   ]
  },
  {
   "cell_type": "code",
   "execution_count": 40,
   "metadata": {
    "execution": {
     "iopub.execute_input": "2023-09-24T16:54:15.552577Z",
     "iopub.status.busy": "2023-09-24T16:54:15.550494Z",
     "iopub.status.idle": "2023-09-24T16:54:15.566190Z",
     "shell.execute_reply": "2023-09-24T16:54:15.564882Z",
     "shell.execute_reply.started": "2023-09-24T16:54:15.552514Z"
    }
   },
   "outputs": [],
   "source": [
    "genre_mean_rating = df.groupby('Genre')['Rating'].transform('mean')\n",
    "df['Genre_mean_rating'] = genre_mean_rating"
   ]
  },
  {
   "cell_type": "code",
   "execution_count": 41,
   "metadata": {
    "execution": {
     "iopub.execute_input": "2023-09-24T16:54:15.568279Z",
     "iopub.status.busy": "2023-09-24T16:54:15.567886Z",
     "iopub.status.idle": "2023-09-24T16:54:15.584991Z",
     "shell.execute_reply": "2023-09-24T16:54:15.583677Z",
     "shell.execute_reply.started": "2023-09-24T16:54:15.568245Z"
    }
   },
   "outputs": [],
   "source": [
    "director_mean_rating = df.groupby('Director')['Rating'].transform('mean')\n",
    "df['Director_encoded'] = director_mean_rating"
   ]
  },
  {
   "cell_type": "code",
   "execution_count": 42,
   "metadata": {
    "execution": {
     "iopub.execute_input": "2023-09-24T16:54:15.587385Z",
     "iopub.status.busy": "2023-09-24T16:54:15.586957Z",
     "iopub.status.idle": "2023-09-24T16:54:15.603050Z",
     "shell.execute_reply": "2023-09-24T16:54:15.601896Z",
     "shell.execute_reply.started": "2023-09-24T16:54:15.587350Z"
    }
   },
   "outputs": [],
   "source": [
    "actor_mean_rating = df.groupby('Actor 1')['Rating'].transform('mean')\n",
    "df['Actor_encoded'] = actor_mean_rating"
   ]
  },
  {
   "cell_type": "code",
   "execution_count": 43,
   "metadata": {
    "execution": {
     "iopub.execute_input": "2023-09-24T16:54:46.398693Z",
     "iopub.status.busy": "2023-09-24T16:54:46.397754Z",
     "iopub.status.idle": "2023-09-24T16:54:46.725596Z",
     "shell.execute_reply": "2023-09-24T16:54:46.724296Z",
     "shell.execute_reply.started": "2023-09-24T16:54:46.398645Z"
    }
   },
   "outputs": [
    {
     "data": {
      "text/plain": [
       "<Axes: ylabel='Frequency'>"
      ]
     },
     "execution_count": 43,
     "metadata": {},
     "output_type": "execute_result"
    },
    {
     "data": {
      "image/png": "[encoded data removed]",
      "text/plain": [
       "<Figure size 640x480 with 1 Axes>"
      ]
     },
     "metadata": {},
     "output_type": "display_data"
    }
   ],
   "source": [
    "df['Genre_mean_rating'].plot(kind='hist')"
   ]
  },
  {
   "cell_type": "code",
   "execution_count": 44,
   "metadata": {
    "execution": {
     "iopub.execute_input": "2023-09-24T16:54:49.968987Z",
     "iopub.status.busy": "2023-09-24T16:54:49.968587Z",
     "iopub.status.idle": "2023-09-24T16:54:49.994730Z",
     "shell.execute_reply": "2023-09-24T16:54:49.993001Z",
     "shell.execute_reply.started": "2023-09-24T16:54:49.968955Z"
    }
   },
   "outputs": [
    {
     "name": "stdout",
     "output_type": "stream",
     "text": [
      "Root Mean Squared Error: 0.7176648127562957\n"
     ]
    }
   ],
   "source": [
    "# here I applied many encoding techniques but my root mean square error was 1.33 then I decrease to o.71\n",
    "# which is sufficient\n",
    "\n",
    "X = df[[ 'Year', 'Votes', 'Duration','Genre_mean_rating','Director_encoded','Actor_encoded']]\n",
    "y = df['Rating']\n",
    "X_train, X_test, y_train, y_test = train_test_split(X, y, test_size=0.2, random_state=42)\n",
    "\n",
    "# Initialize and train a Linear Regression model\n",
    "model = LinearRegression()\n",
    "model.fit(X_train, y_train)\n",
    "\n",
    "# Make predictions on the test set\n",
    "y_pred = model.predict(X_test)\n",
    "\n",
    "# Evaluate the model\n",
    "mse = mean_squared_error(y_test, y_pred)\n",
    "rmse = mse ** 0.5\n",
    "print(f\"Root Mean Squared Error: {rmse}\")"
   ]
  },
  {
   "cell_type": "code",
   "execution_count": 45,
   "metadata": {
    "execution": {
     "iopub.execute_input": "2023-09-24T16:54:49.998617Z",
     "iopub.status.busy": "2023-09-24T16:54:49.997987Z",
     "iopub.status.idle": "2023-09-24T16:54:50.024297Z",
     "shell.execute_reply": "2023-09-24T16:54:50.022653Z",
     "shell.execute_reply.started": "2023-09-24T16:54:49.998562Z"
    }
   },
   "outputs": [
    {
     "name": "stdout",
     "output_type": "stream",
     "text": [
      "Mean squared error:  0.5150427834685289\n",
      "Mean absolute error:  0.5126362245791549\n",
      "R2 score:  0.7231721423658711\n"
     ]
    }
   ],
   "source": [
    "X = df[[ 'Year', 'Votes', 'Duration','Genre_mean_rating','Director_encoded','Actor_encoded']]\n",
    "y = df['Rating']\n",
    "X_train,X_test,y_train,y_test = train_test_split(X,y,test_size=0.2,random_state=42)\n",
    "lr = LinearRegression()\n",
    "lr.fit(X_train,y_train)\n",
    "y_pred = lr.predict(X_test)\n",
    "print('Mean squared error: ',mean_squared_error(y_test,y_pred))\n",
    "print('Mean absolute error: ',mean_absolute_error(y_test,y_pred))\n",
    "print('R2 score: ',r2_score(y_test,y_pred))"
   ]
  }
 ],
 "metadata": {
  "kernelspec": {
   "display_name": "Python 3 (ipykernel)",
   "language": "python",
   "name": "python3"
  },
  "language_info": {
   "codemirror_mode": {
    "name": "ipython",
    "version": 3
   },
   "file_extension": ".py",
   "mimetype": "text/x-python",
   "name": "python",
   "nbconvert_exporter": "python",
   "pygments_lexer": "ipython3",
   "version": "3.11.3"
  }
 },
 "nbformat": 4,
 "nbformat_minor": 4
}
